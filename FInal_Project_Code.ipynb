{
  "cells": [
    {
      "cell_type": "markdown",
      "metadata": {
        "id": "n21xqHfm4fxQ"
      },
      "source": [
        "Data Exploration"
      ]
    },
    {
      "cell_type": "code",
      "execution_count": 1,
      "metadata": {
        "id": "3Dt4dgknoWnL"
      },
      "outputs": [],
      "source": [
        "import cv2\n",
        "import os\n",
        "import numpy as np\n",
        "import tensorflow as tf\n",
        "from tensorflow import keras\n",
        "from tensorflow.keras import layers\n",
        "from keras.layers import *\n",
        "from keras.optimizers import Adam\n",
        "from keras.models import Sequential\n",
        "from keras import Model"
      ]
    },
    {
      "cell_type": "markdown",
      "metadata": {
        "id": "mDfKhj9d8mCF"
      },
      "source": [
        "Loading data"
      ]
    },
    {
      "cell_type": "code",
      "execution_count": 2,
      "metadata": {
        "id": "GDIySlf_4mp5"
      },
      "outputs": [],
      "source": [
        "#Reading all the images into a numpy array\n",
        "images = []\n",
        "for file in os.listdir():\n",
        "  if file.endswith('.jpg'):\n",
        "    #if the file is an image\n",
        "    image_values = cv2.imread(file)\n",
        "\n",
        "    #resize the image into 360 x 480 pixels\n",
        "    image_values = cv2.resize(image_values,(360,480))\n",
        "\n",
        "    images.append(image_values)\n",
        "\n",
        "#storing everything in a numpy array\n",
        "images_array = np.array(images)"
      ]
    },
    {
      "cell_type": "markdown",
      "metadata": {
        "id": "FtWepnOn8n-u"
      },
      "source": [
        "Finding number of observations"
      ]
    },
    {
      "cell_type": "code",
      "execution_count": 3,
      "metadata": {
        "colab": {
          "base_uri": "https://localhost:8080/"
        },
        "id": "IDxkKLpo8WNG",
        "outputId": "6a2de72e-66a7-4a4d-c10b-90abeba6d702"
      },
      "outputs": [
        {
          "output_type": "execute_result",
          "data": {
            "text/plain": [
              "31"
            ]
          },
          "metadata": {},
          "execution_count": 3
        }
      ],
      "source": [
        "number_of_observations = len(images_array)\n",
        "number_of_observations"
      ]
    },
    {
      "cell_type": "markdown",
      "metadata": {
        "id": "nDGS2zhG8rXc"
      },
      "source": [
        "As we are working on a image dataset we do not have any columns "
      ]
    },
    {
      "cell_type": "markdown",
      "metadata": {
        "id": "_grOvEeE60J3"
      },
      "source": [
        "Analzing how images are stored in python variables"
      ]
    },
    {
      "cell_type": "code",
      "execution_count": 4,
      "metadata": {
        "colab": {
          "base_uri": "https://localhost:8080/"
        },
        "id": "ssGbDf8o41_f",
        "outputId": "71cb585c-5776-4dd2-834d-d0b05b003bf5"
      },
      "outputs": [
        {
          "output_type": "execute_result",
          "data": {
            "text/plain": [
              "array([[[[ 39,  46,  55],\n",
              "         [ 52,  59,  68],\n",
              "         [ 80,  87,  96],\n",
              "         ...,\n",
              "         [ 11,   6,   7],\n",
              "         [ 11,   6,   7],\n",
              "         [ 11,   6,   7]],\n",
              "\n",
              "        [[ 35,  42,  51],\n",
              "         [ 48,  55,  64],\n",
              "         [ 74,  81,  90],\n",
              "         ...,\n",
              "         [ 10,   6,   6],\n",
              "         [ 11,   6,   6],\n",
              "         [ 11,   5,   6]],\n",
              "\n",
              "        [[ 24,  31,  40],\n",
              "         [ 36,  43,  52],\n",
              "         [ 59,  66,  75],\n",
              "         ...,\n",
              "         [  9,   5,   6],\n",
              "         [  9,   5,   6],\n",
              "         [ 10,   5,   6]],\n",
              "\n",
              "        ...,\n",
              "\n",
              "        [[ 57,  61,  66],\n",
              "         [ 45,  49,  54],\n",
              "         [ 21,  23,  28],\n",
              "         ...,\n",
              "         [ 26,  32,  30],\n",
              "         [ 24,  29,  28],\n",
              "         [ 23,  28,  27]],\n",
              "\n",
              "        [[104, 108, 113],\n",
              "         [ 83,  87,  92],\n",
              "         [ 41,  44,  49],\n",
              "         ...,\n",
              "         [ 27,  31,  31],\n",
              "         [ 24,  29,  28],\n",
              "         [ 23,  28,  27]],\n",
              "\n",
              "        [[123, 127, 132],\n",
              "         [ 98, 103, 107],\n",
              "         [ 49,  53,  57],\n",
              "         ...,\n",
              "         [ 27,  32,  31],\n",
              "         [ 24,  29,  28],\n",
              "         [ 23,  28,  27]]],\n",
              "\n",
              "\n",
              "       [[[108, 156, 228],\n",
              "         [108, 157, 229],\n",
              "         [109, 158, 230],\n",
              "         ...,\n",
              "         [ 54,  70,  77],\n",
              "         [ 54,  70,  77],\n",
              "         [ 54,  70,  77]],\n",
              "\n",
              "        [[108, 156, 228],\n",
              "         [108, 157, 229],\n",
              "         [109, 158, 230],\n",
              "         ...,\n",
              "         [ 54,  70,  77],\n",
              "         [ 54,  70,  77],\n",
              "         [ 54,  70,  77]],\n",
              "\n",
              "        [[108, 156, 228],\n",
              "         [108, 157, 229],\n",
              "         [109, 158, 230],\n",
              "         ...,\n",
              "         [ 54,  70,  77],\n",
              "         [ 54,  70,  77],\n",
              "         [ 54,  70,  77]],\n",
              "\n",
              "        ...,\n",
              "\n",
              "        [[ 54,  93, 162],\n",
              "         [ 54,  93, 162],\n",
              "         [ 55,  94, 163],\n",
              "         ...,\n",
              "         [ 19,  29,  32],\n",
              "         [ 18,  30,  32],\n",
              "         [ 18,  30,  32]],\n",
              "\n",
              "        [[ 54,  93, 162],\n",
              "         [ 54,  93, 162],\n",
              "         [ 55,  94, 163],\n",
              "         ...,\n",
              "         [ 19,  29,  32],\n",
              "         [ 18,  30,  32],\n",
              "         [ 18,  30,  32]],\n",
              "\n",
              "        [[ 54,  93, 162],\n",
              "         [ 54,  93, 162],\n",
              "         [ 55,  94, 163],\n",
              "         ...,\n",
              "         [ 19,  29,  32],\n",
              "         [ 18,  30,  32],\n",
              "         [ 18,  30,  32]]],\n",
              "\n",
              "\n",
              "       [[[ 70,  79, 122],\n",
              "         [ 70,  79, 122],\n",
              "         [ 70,  79, 122],\n",
              "         ...,\n",
              "         [217, 220, 221],\n",
              "         [226, 227, 227],\n",
              "         [230, 230, 230]],\n",
              "\n",
              "        [[ 69,  78, 121],\n",
              "         [ 69,  78, 121],\n",
              "         [ 69,  78, 121],\n",
              "         ...,\n",
              "         [217, 220, 221],\n",
              "         [226, 227, 227],\n",
              "         [230, 230, 230]],\n",
              "\n",
              "        [[ 66,  75, 119],\n",
              "         [ 66,  75, 119],\n",
              "         [ 66,  76, 119],\n",
              "         ...,\n",
              "         [218, 220, 221],\n",
              "         [226, 227, 227],\n",
              "         [230, 230, 230]],\n",
              "\n",
              "        ...,\n",
              "\n",
              "        [[ 98,  98,  98],\n",
              "         [100, 100, 100],\n",
              "         [106, 106, 106],\n",
              "         ...,\n",
              "         [163, 157, 159],\n",
              "         [163, 157, 159],\n",
              "         [163, 157, 159]],\n",
              "\n",
              "        [[ 98,  98,  98],\n",
              "         [100, 100, 100],\n",
              "         [106, 106, 106],\n",
              "         ...,\n",
              "         [164, 158, 160],\n",
              "         [164, 158, 160],\n",
              "         [164, 158, 160]],\n",
              "\n",
              "        [[ 98,  98,  98],\n",
              "         [100, 100, 100],\n",
              "         [106, 106, 106],\n",
              "         ...,\n",
              "         [164, 159, 160],\n",
              "         [164, 159, 160],\n",
              "         [164, 159, 160]]],\n",
              "\n",
              "\n",
              "       ...,\n",
              "\n",
              "\n",
              "       [[[203, 197, 152],\n",
              "         [203, 197, 151],\n",
              "         [203, 197, 150],\n",
              "         ...,\n",
              "         [200, 202, 142],\n",
              "         [200, 202, 142],\n",
              "         [200, 202, 142]],\n",
              "\n",
              "        [[203, 197, 152],\n",
              "         [203, 197, 151],\n",
              "         [203, 197, 151],\n",
              "         ...,\n",
              "         [200, 202, 142],\n",
              "         [200, 202, 142],\n",
              "         [200, 202, 142]],\n",
              "\n",
              "        [[203, 197, 152],\n",
              "         [203, 197, 152],\n",
              "         [203, 197, 150],\n",
              "         ...,\n",
              "         [200, 202, 142],\n",
              "         [200, 202, 142],\n",
              "         [200, 202, 142]],\n",
              "\n",
              "        ...,\n",
              "\n",
              "        [[201, 199, 145],\n",
              "         [201, 199, 145],\n",
              "         [202, 200, 146],\n",
              "         ...,\n",
              "         [201, 198, 146],\n",
              "         [201, 198, 146],\n",
              "         [201, 198, 146]],\n",
              "\n",
              "        [[201, 199, 145],\n",
              "         [201, 199, 145],\n",
              "         [202, 200, 146],\n",
              "         ...,\n",
              "         [201, 198, 147],\n",
              "         [201, 198, 147],\n",
              "         [201, 198, 147]],\n",
              "\n",
              "        [[201, 199, 145],\n",
              "         [201, 199, 145],\n",
              "         [202, 200, 146],\n",
              "         ...,\n",
              "         [202, 199, 148],\n",
              "         [202, 199, 148],\n",
              "         [202, 199, 148]]],\n",
              "\n",
              "\n",
              "       [[[112, 131, 139],\n",
              "         [112, 131, 139],\n",
              "         [112, 131, 139],\n",
              "         ...,\n",
              "         [254, 254, 254],\n",
              "         [254, 254, 254],\n",
              "         [254, 254, 254]],\n",
              "\n",
              "        [[112, 131, 139],\n",
              "         [112, 131, 139],\n",
              "         [112, 131, 139],\n",
              "         ...,\n",
              "         [254, 254, 254],\n",
              "         [254, 254, 254],\n",
              "         [254, 254, 254]],\n",
              "\n",
              "        [[113, 132, 139],\n",
              "         [112, 131, 139],\n",
              "         [111, 131, 139],\n",
              "         ...,\n",
              "         [254, 254, 254],\n",
              "         [254, 254, 254],\n",
              "         [254, 254, 254]],\n",
              "\n",
              "        ...,\n",
              "\n",
              "        [[166, 209, 228],\n",
              "         [164, 207, 226],\n",
              "         [161, 204, 223],\n",
              "         ...,\n",
              "         [ 95, 114, 119],\n",
              "         [ 96, 115, 118],\n",
              "         [ 96, 115, 118]],\n",
              "\n",
              "        [[166, 209, 228],\n",
              "         [164, 207, 226],\n",
              "         [161, 204, 223],\n",
              "         ...,\n",
              "         [ 95, 114, 119],\n",
              "         [ 96, 115, 118],\n",
              "         [ 96, 115, 118]],\n",
              "\n",
              "        [[166, 209, 228],\n",
              "         [164, 207, 226],\n",
              "         [161, 204, 223],\n",
              "         ...,\n",
              "         [ 95, 114, 119],\n",
              "         [ 96, 115, 118],\n",
              "         [ 96, 115, 118]]],\n",
              "\n",
              "\n",
              "       [[[226, 206, 171],\n",
              "         [226, 206, 171],\n",
              "         [226, 206, 171],\n",
              "         ...,\n",
              "         [212, 192, 145],\n",
              "         [212, 192, 145],\n",
              "         [212, 192, 145]],\n",
              "\n",
              "        [[226, 206, 171],\n",
              "         [226, 206, 171],\n",
              "         [226, 206, 171],\n",
              "         ...,\n",
              "         [212, 192, 145],\n",
              "         [212, 192, 145],\n",
              "         [212, 192, 145]],\n",
              "\n",
              "        [[226, 206, 171],\n",
              "         [226, 206, 171],\n",
              "         [226, 206, 171],\n",
              "         ...,\n",
              "         [212, 192, 145],\n",
              "         [212, 192, 145],\n",
              "         [212, 192, 145]],\n",
              "\n",
              "        ...,\n",
              "\n",
              "        [[217, 205, 171],\n",
              "         [217, 205, 171],\n",
              "         [217, 205, 171],\n",
              "         ...,\n",
              "         [ 66, 198, 252],\n",
              "         [ 67, 197, 252],\n",
              "         [ 68, 197, 253]],\n",
              "\n",
              "        [[217, 205, 171],\n",
              "         [217, 205, 171],\n",
              "         [217, 205, 171],\n",
              "         ...,\n",
              "         [ 66, 198, 252],\n",
              "         [ 67, 197, 253],\n",
              "         [ 68, 197, 253]],\n",
              "\n",
              "        [[217, 205, 171],\n",
              "         [217, 205, 171],\n",
              "         [217, 205, 171],\n",
              "         ...,\n",
              "         [ 66, 198, 252],\n",
              "         [ 67, 197, 253],\n",
              "         [ 68, 197, 254]]]], dtype=uint8)"
            ]
          },
          "metadata": {},
          "execution_count": 4
        }
      ],
      "source": [
        "images_array"
      ]
    },
    {
      "cell_type": "code",
      "execution_count": 5,
      "metadata": {
        "colab": {
          "base_uri": "https://localhost:8080/"
        },
        "id": "yPKaxQ4_65VN",
        "outputId": "de46b839-958f-4611-bd45-d2d64bd580f9"
      },
      "outputs": [
        {
          "output_type": "execute_result",
          "data": {
            "text/plain": [
              "(480, 360, 3)"
            ]
          },
          "metadata": {},
          "execution_count": 5
        }
      ],
      "source": [
        "shape = images_array[0].shape\n",
        "shape"
      ]
    },
    {
      "cell_type": "code",
      "execution_count": 6,
      "metadata": {
        "colab": {
          "base_uri": "https://localhost:8080/"
        },
        "id": "q6KOs_RG7SrR",
        "outputId": "fd0694a0-7cf0-49d2-9447-84597f9bc5a3"
      },
      "outputs": [
        {
          "output_type": "execute_result",
          "data": {
            "text/plain": [
              "array([[[ 39,  46,  55],\n",
              "        [ 52,  59,  68],\n",
              "        [ 80,  87,  96],\n",
              "        ...,\n",
              "        [ 11,   6,   7],\n",
              "        [ 11,   6,   7],\n",
              "        [ 11,   6,   7]],\n",
              "\n",
              "       [[ 35,  42,  51],\n",
              "        [ 48,  55,  64],\n",
              "        [ 74,  81,  90],\n",
              "        ...,\n",
              "        [ 10,   6,   6],\n",
              "        [ 11,   6,   6],\n",
              "        [ 11,   5,   6]],\n",
              "\n",
              "       [[ 24,  31,  40],\n",
              "        [ 36,  43,  52],\n",
              "        [ 59,  66,  75],\n",
              "        ...,\n",
              "        [  9,   5,   6],\n",
              "        [  9,   5,   6],\n",
              "        [ 10,   5,   6]],\n",
              "\n",
              "       ...,\n",
              "\n",
              "       [[ 57,  61,  66],\n",
              "        [ 45,  49,  54],\n",
              "        [ 21,  23,  28],\n",
              "        ...,\n",
              "        [ 26,  32,  30],\n",
              "        [ 24,  29,  28],\n",
              "        [ 23,  28,  27]],\n",
              "\n",
              "       [[104, 108, 113],\n",
              "        [ 83,  87,  92],\n",
              "        [ 41,  44,  49],\n",
              "        ...,\n",
              "        [ 27,  31,  31],\n",
              "        [ 24,  29,  28],\n",
              "        [ 23,  28,  27]],\n",
              "\n",
              "       [[123, 127, 132],\n",
              "        [ 98, 103, 107],\n",
              "        [ 49,  53,  57],\n",
              "        ...,\n",
              "        [ 27,  32,  31],\n",
              "        [ 24,  29,  28],\n",
              "        [ 23,  28,  27]]], dtype=uint8)"
            ]
          },
          "metadata": {},
          "execution_count": 6
        }
      ],
      "source": [
        "images_array[0]"
      ]
    },
    {
      "cell_type": "markdown",
      "metadata": {
        "id": "kZunzWj07x6D"
      },
      "source": [
        "Here we can observe that the images are stored pxiel wise as a 2d matrix where each element in the matrix is an array with 3 values in it. Those three values are RGB values(red green blue) of the pixel "
      ]
    },
    {
      "cell_type": "markdown",
      "metadata": {
        "id": "THvNMgjU9JoY"
      },
      "source": [
        "There are no missing values"
      ]
    },
    {
      "cell_type": "markdown",
      "metadata": {
        "id": "ss3_27qG870l"
      },
      "source": [
        "All the pixel details in the image dataset are used as features for building our dep learning model"
      ]
    },
    {
      "cell_type": "markdown",
      "metadata": {
        "id": "cZYINTxs9Sln"
      },
      "source": [
        "Target column: Our model wil be creating new face images by taking inspiration from the images we feed it. We also train a discriminator which identifies whether an image is a real one or generated one"
      ]
    },
    {
      "cell_type": "markdown",
      "metadata": {
        "id": "Gh3nx_fC9ssy"
      },
      "source": [
        "**Steps to be performed in the project**"
      ]
    },
    {
      "cell_type": "markdown",
      "metadata": {
        "id": "7kBr_eho9zLN"
      },
      "source": [
        "* I will be loading the dataset into numpy arrays. \n",
        "* I will preprocess the images like fitting its resolution. \n",
        "* I will be creating a GAN model and training it with the dataset I loaded. \n",
        "* I will be training a discriminator that can filter whether an image is real or generated\n",
        "* Hyper parameter tuning will be performed\n",
        "* I will be creating new images using the generator.\n",
        "* For evaluation purpose, I will be taking a model available on internet to predict if generated image is a human face or not\n",
        "\n",
        "\n"
      ]
    },
    {
      "cell_type": "code",
      "execution_count": 7,
      "metadata": {
        "id": "XYUXCv7XyO2c"
      },
      "outputs": [],
      "source": [
        "# building the discriminator\n",
        "def build_discriminator(img_shape):\n",
        "  model = Sequential([\n",
        "      # First Layer\n",
        "      Conv2D(32, kernel_size=5, strides=2, input_shape=img_shape, padding=\"same\"),                          \n",
        "      LeakyReLU(alpha=0.2),                           \n",
        "      Dropout(0.25),\n",
        "      # Second Layer\n",
        "      Conv2D(64, kernel_size=5, strides=2, padding=\"same\"),                          \n",
        "      BatchNormalization(momentum=0.8),                           \n",
        "      LeakyReLU(alpha=0.2),                           \n",
        "      Dropout(0.25),\n",
        "      # Third layer\n",
        "      Conv2D(128, kernel_size=5, strides=2, padding=\"same\"),                         \n",
        "      BatchNormalization(momentum=0.8),                           \n",
        "      LeakyReLU(alpha=0.2),                           \n",
        "      Dropout(0.25),\n",
        "      # Flattening the output to get a valid value\n",
        "      Flatten(),                            \n",
        "      Dense(1),                           \n",
        "      Activation(\"sigmoid\")\n",
        "  ])\n",
        "                                                    \n",
        "  model.summary()                           \n",
        "  img = Input(shape=img_shape)    \n",
        "  # predicted outputs\n",
        "  d_pred = model(img)                           \n",
        "  return Model(inputs=img, outputs=d_pred)"
      ]
    },
    {
      "cell_type": "code",
      "execution_count": 8,
      "metadata": {
        "id": "FoIb-ha85BwU"
      },
      "outputs": [],
      "source": [
        "# Building the Generator\n",
        "def build_generator(z_dimension, channels):                           \n",
        "  model = Sequential([\n",
        "      Dense(2 * 120 * 90, input_dim=z_dimension),                           \n",
        "      LeakyReLU(alpha=0.2),                            \n",
        "      Reshape((120, 90, 2)),\n",
        "      UpSampling2D(),                          \n",
        "      # Second Layer\n",
        "      Conv2D(128, kernel_size=5, padding=\"same\"),                           \n",
        "      BatchNormalization(momentum=0.8),                           \n",
        "      LeakyReLU(alpha=0.2),\n",
        "      UpSampling2D(),                          \n",
        "      # Third Layer\n",
        "      Conv2D(64, kernel_size=5, padding=\"same\"),                           \n",
        "      BatchNormalization(momentum=0.8),                           \n",
        "      LeakyReLU(alpha=0.2),\n",
        "      Conv2D(channels, kernel_size=5, padding=\"same\"),                           \n",
        "      Activation(\"tanh\"),\n",
        "  ])\n",
        "  model.summary()                           \n",
        "  noise = Input(shape=(z_dimension,))                           \n",
        "  img = model(noise)                           \n",
        "  return Model(inputs=noise, outputs=img)"
      ]
    },
    {
      "cell_type": "code",
      "execution_count": 9,
      "metadata": {
        "id": "-4IlLFit7oBy"
      },
      "outputs": [],
      "source": [
        "#load real pictures:                       \n",
        "x_train = images_array                                       \n",
        "# model parameters                       \n",
        "img_rows = shape[0]                       \n",
        "img_cols = shape[1]                       \n",
        "channels = 3                       \n",
        "img_shape = (img_rows, img_cols, channels)                       \n",
        "z_dimension = 32        \n",
        "# Using adam optimiser here because the computation is fast and results are generally better\n",
        "optimizer = Adam(0.0005, 0.5)"
      ]
    },
    {
      "cell_type": "code",
      "execution_count": 10,
      "metadata": {
        "colab": {
          "base_uri": "https://localhost:8080/"
        },
        "id": "Le-OOCUx8pxX",
        "outputId": "00d85a8c-978f-47b8-aa14-a54705e5cdb6"
      },
      "outputs": [
        {
          "output_type": "stream",
          "name": "stdout",
          "text": [
            "Model: \"sequential\"\n",
            "_________________________________________________________________\n",
            " Layer (type)                Output Shape              Param #   \n",
            "=================================================================\n",
            " conv2d (Conv2D)             (None, 240, 180, 32)      2432      \n",
            "                                                                 \n",
            " leaky_re_lu (LeakyReLU)     (None, 240, 180, 32)      0         \n",
            "                                                                 \n",
            " dropout (Dropout)           (None, 240, 180, 32)      0         \n",
            "                                                                 \n",
            " conv2d_1 (Conv2D)           (None, 120, 90, 64)       51264     \n",
            "                                                                 \n",
            " batch_normalization (BatchN  (None, 120, 90, 64)      256       \n",
            " ormalization)                                                   \n",
            "                                                                 \n",
            " leaky_re_lu_1 (LeakyReLU)   (None, 120, 90, 64)       0         \n",
            "                                                                 \n",
            " dropout_1 (Dropout)         (None, 120, 90, 64)       0         \n",
            "                                                                 \n",
            " conv2d_2 (Conv2D)           (None, 60, 45, 128)       204928    \n",
            "                                                                 \n",
            " batch_normalization_1 (Batc  (None, 60, 45, 128)      512       \n",
            " hNormalization)                                                 \n",
            "                                                                 \n",
            " leaky_re_lu_2 (LeakyReLU)   (None, 60, 45, 128)       0         \n",
            "                                                                 \n",
            " dropout_2 (Dropout)         (None, 60, 45, 128)       0         \n",
            "                                                                 \n",
            " flatten (Flatten)           (None, 345600)            0         \n",
            "                                                                 \n",
            " dense (Dense)               (None, 1)                 345601    \n",
            "                                                                 \n",
            " activation (Activation)     (None, 1)                 0         \n",
            "                                                                 \n",
            "=================================================================\n",
            "Total params: 604,993\n",
            "Trainable params: 604,609\n",
            "Non-trainable params: 384\n",
            "_________________________________________________________________\n",
            "Model: \"sequential_1\"\n",
            "_________________________________________________________________\n",
            " Layer (type)                Output Shape              Param #   \n",
            "=================================================================\n",
            " dense_1 (Dense)             (None, 21600)             712800    \n",
            "                                                                 \n",
            " leaky_re_lu_3 (LeakyReLU)   (None, 21600)             0         \n",
            "                                                                 \n",
            " reshape (Reshape)           (None, 120, 90, 2)        0         \n",
            "                                                                 \n",
            " up_sampling2d (UpSampling2D  (None, 240, 180, 2)      0         \n",
            " )                                                               \n",
            "                                                                 \n",
            " conv2d_3 (Conv2D)           (None, 240, 180, 128)     6528      \n",
            "                                                                 \n",
            " batch_normalization_2 (Batc  (None, 240, 180, 128)    512       \n",
            " hNormalization)                                                 \n",
            "                                                                 \n",
            " leaky_re_lu_4 (LeakyReLU)   (None, 240, 180, 128)     0         \n",
            "                                                                 \n",
            " up_sampling2d_1 (UpSampling  (None, 480, 360, 128)    0         \n",
            " 2D)                                                             \n",
            "                                                                 \n",
            " conv2d_4 (Conv2D)           (None, 480, 360, 64)      204864    \n",
            "                                                                 \n",
            " batch_normalization_3 (Batc  (None, 480, 360, 64)     256       \n",
            " hNormalization)                                                 \n",
            "                                                                 \n",
            " leaky_re_lu_5 (LeakyReLU)   (None, 480, 360, 64)      0         \n",
            "                                                                 \n",
            " conv2d_5 (Conv2D)           (None, 480, 360, 3)       4803      \n",
            "                                                                 \n",
            " activation_1 (Activation)   (None, 480, 360, 3)       0         \n",
            "                                                                 \n",
            "=================================================================\n",
            "Total params: 929,763\n",
            "Trainable params: 929,379\n",
            "Non-trainable params: 384\n",
            "_________________________________________________________________\n"
          ]
        }
      ],
      "source": [
        "# Compiling the discriminator and generator\n",
        "discriminator = build_discriminator(img_shape)      \n",
        "discriminator.compile(loss='binary_crossentropy',                                             \n",
        "                      optimizer=optimizer, metrics=['accuracy'])                                               \n",
        "generator = build_generator(z_dimension,channels)                                               \n",
        "z = Input(shape=(z_dimension,))                       \n",
        "img = generator(z)                       \n",
        "discriminator.trainable = False                       \n",
        "d_pred = discriminator(img)                       \n",
        "combined = Model(z, d_pred)                       \n",
        "combined.compile(loss='binary_crossentropy',optimizer=optimizer,                                        \n",
        "                 metrics=['accuracy'])"
      ]
    },
    {
      "cell_type": "code",
      "execution_count": null,
      "metadata": {
        "colab": {
          "base_uri": "https://localhost:8080/"
        },
        "id": "MO7ZBeD09JwS",
        "outputId": "b325bdf4-b5df-47cf-d46f-c4deea543f10"
      },
      "outputs": [
        {
          "output_type": "stream",
          "name": "stdout",
          "text": [
            "2/2 [==============================] - 87s 43s/step\n"
          ]
        }
      ],
      "source": [
        "# Total number of epochs to train for\n",
        "epochs = 2\n",
        "\n",
        "# Number of batches per epoch\n",
        "batch_size = 64\n",
        "sample_interval=1000 \n",
        "\n",
        "# Real labels\n",
        "real = np.ones((batch_size, 1))\n",
        "# generated labels\n",
        "fake = np.zeros((batch_size, 1))\n",
        "\n",
        "# Running it for 2 epochs\n",
        "for epoch in range(epochs):\n",
        "    # Select a batch of random real images\n",
        "    idx = np.random.randint(0, x_train.shape[0], batch_size)\n",
        "    # Fetch the images from the training set\n",
        "    imgs = x_train[idx]\n",
        "    noise = np.random.normal(0, 1, (batch_size, z_dimension))\n",
        "    # Generate fake images\n",
        "    gen_imgs = generator.predict(noise)\n",
        "    # Training the generator to find the loss\n",
        "    d_loss_real = discriminator.train_on_batch(imgs, real)\n",
        "    d_loss_fake = discriminator.train_on_batch(gen_imgs, fake)\n",
        "    d_loss = 0.5 * np.add(d_loss_real, d_loss_fake)\n",
        "    noise = np.random.normal(0, 1, (batch_size, z_dimension))\n",
        "    g_loss = combined.train_on_batch(noise, real)\n",
        "    # Printing the loss every epoch\n",
        "    if (epoch % sample_interval) == 0:\n",
        "        print (\"%d [D loss: %f, acc.: %.2f%%] [G loss: %f]\" % \n",
        "            (epoch, d_loss[0], 100*d_loss[1], g_loss[0]))\n",
        "        generator.save(\"generator_64_64_z64_%d_epoch.h5\" % epoch)"
      ]
    },
    {
      "cell_type": "code",
      "execution_count": null,
      "metadata": {
        "id": "vh3Yc19oa-vn"
      },
      "outputs": [],
      "source": []
    }
  ],
  "metadata": {
    "colab": {
      "provenance": []
    },
    "kernelspec": {
      "display_name": "Python 3",
      "language": "python",
      "name": "python3"
    },
    "language_info": {
      "codemirror_mode": {
        "name": "ipython",
        "version": 3
      },
      "file_extension": ".py",
      "mimetype": "text/x-python",
      "name": "python",
      "nbconvert_exporter": "python",
      "pygments_lexer": "ipython3",
      "version": "3.8.3"
    }
  },
  "nbformat": 4,
  "nbformat_minor": 0
}