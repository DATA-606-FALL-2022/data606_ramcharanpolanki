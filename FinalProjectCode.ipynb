{
  "nbformat": 4,
  "nbformat_minor": 0,
  "metadata": {
    "colab": {
      "provenance": []
    },
    "kernelspec": {
      "name": "python3",
      "display_name": "Python 3"
    },
    "language_info": {
      "name": "python"
    }
  },
  "cells": [
    {
      "cell_type": "markdown",
      "source": [
        "Importing Libraries:\n",
        "\n"
      ],
      "metadata": {
        "id": "n21xqHfm4fxQ"
      }
    },
    {
      "cell_type": "code",
      "execution_count": 1,
      "metadata": {
        "id": "3Dt4dgknoWnL"
      },
      "outputs": [],
      "source": [
        "import cv2\n",
        "import os\n",
        "import numpy as np\n",
        "import tensorflow as tf\n",
        "from tensorflow import keras\n",
        "from tensorflow.keras import layers\n",
        "from keras.layers import *\n",
        "from keras.optimizers import Adam\n",
        "from keras.models import Sequential\n",
        "from keras import Model"
      ]
    },
    {
      "cell_type": "markdown",
      "source": [
        "Loading the Images into the Notebook:"
      ],
      "metadata": {
        "id": "mDfKhj9d8mCF"
      }
    },
    {
      "cell_type": "code",
      "source": [
        "#Reading all the images into a numpy array\n",
        "images = []\n",
        "for file in os.listdir():\n",
        "  if file.endswith('.jpg'):\n",
        "    #if the file is an image\n",
        "    image_values = cv2.imread(file)\n",
        "\n",
        "    #resize the image into 360 x 480 pixels\n",
        "    image_values = cv2.resize(image_values,(360,480))\n",
        "\n",
        "    images.append(image_values)\n",
        "\n",
        "#storing everything in a numpy array\n",
        "images_array = np.array(images)"
      ],
      "metadata": {
        "id": "GDIySlf_4mp5"
      },
      "execution_count": 2,
      "outputs": []
    },
    {
      "cell_type": "markdown",
      "source": [
        "Knowing the number of Images we are working on:"
      ],
      "metadata": {
        "id": "FtWepnOn8n-u"
      }
    },
    {
      "cell_type": "code",
      "source": [
        "number_of_observations = len(images_array)\n",
        "number_of_observations"
      ],
      "metadata": {
        "colab": {
          "base_uri": "https://localhost:8080/"
        },
        "id": "IDxkKLpo8WNG",
        "outputId": "4ec7ee4b-a0fe-4699-f487-19228d538958"
      },
      "execution_count": 3,
      "outputs": [
        {
          "output_type": "execute_result",
          "data": {
            "text/plain": [
              "31"
            ]
          },
          "metadata": {},
          "execution_count": 3
        }
      ]
    },
    {
      "cell_type": "markdown",
      "source": [
        "We don't have any columns because we're operating on an image dataset.\n",
        "\n",
        "Analyzing image storage in Python variables."
      ],
      "metadata": {
        "id": "_grOvEeE60J3"
      }
    },
    {
      "cell_type": "code",
      "source": [
        "images_array"
      ],
      "metadata": {
        "id": "ssGbDf8o41_f",
        "colab": {
          "base_uri": "https://localhost:8080/"
        },
        "outputId": "481354aa-0eba-475e-eaf1-9740d583238e"
      },
      "execution_count": 4,
      "outputs": [
        {
          "output_type": "execute_result",
          "data": {
            "text/plain": [
              "array([[[[ 23,  36,  38],\n",
              "         [ 23,  36,  38],\n",
              "         [ 23,  36,  38],\n",
              "         ...,\n",
              "         [ 16,  24,  24],\n",
              "         [ 16,  24,  24],\n",
              "         [ 16,  24,  24]],\n",
              "\n",
              "        [[ 23,  36,  38],\n",
              "         [ 23,  36,  38],\n",
              "         [ 23,  36,  38],\n",
              "         ...,\n",
              "         [ 16,  24,  24],\n",
              "         [ 16,  24,  24],\n",
              "         [ 16,  24,  24]],\n",
              "\n",
              "        [[ 23,  36,  38],\n",
              "         [ 23,  36,  38],\n",
              "         [ 23,  36,  38],\n",
              "         ...,\n",
              "         [ 16,  24,  24],\n",
              "         [ 16,  24,  24],\n",
              "         [ 16,  24,  24]],\n",
              "\n",
              "        ...,\n",
              "\n",
              "        [[ 24,  41,  69],\n",
              "         [ 24,  42,  70],\n",
              "         [ 25,  44,  71],\n",
              "         ...,\n",
              "         [101, 110, 130],\n",
              "         [101, 110, 130],\n",
              "         [101, 110, 130]],\n",
              "\n",
              "        [[ 29,  47,  75],\n",
              "         [ 29,  48,  76],\n",
              "         [ 30,  50,  77],\n",
              "         ...,\n",
              "         [101, 110, 130],\n",
              "         [101, 110, 130],\n",
              "         [101, 110, 130]],\n",
              "\n",
              "        [[ 31,  49,  78],\n",
              "         [ 31,  50,  78],\n",
              "         [ 32,  52,  80],\n",
              "         ...,\n",
              "         [101, 110, 130],\n",
              "         [101, 110, 130],\n",
              "         [101, 110, 130]]],\n",
              "\n",
              "\n",
              "       [[[ 45,  52,  67],\n",
              "         [ 44,  51,  66],\n",
              "         [ 43,  50,  65],\n",
              "         ...,\n",
              "         [ 74,  79,  82],\n",
              "         [ 74,  80,  83],\n",
              "         [ 74,  81,  84]],\n",
              "\n",
              "        [[ 45,  52,  67],\n",
              "         [ 44,  51,  66],\n",
              "         [ 43,  50,  65],\n",
              "         ...,\n",
              "         [ 74,  79,  82],\n",
              "         [ 74,  80,  83],\n",
              "         [ 74,  81,  84]],\n",
              "\n",
              "        [[ 45,  52,  67],\n",
              "         [ 44,  51,  67],\n",
              "         [ 43,  50,  65],\n",
              "         ...,\n",
              "         [ 74,  80,  82],\n",
              "         [ 74,  80,  83],\n",
              "         [ 74,  81,  84]],\n",
              "\n",
              "        ...,\n",
              "\n",
              "        [[236, 225, 227],\n",
              "         [235, 224, 226],\n",
              "         [232, 221, 223],\n",
              "         ...,\n",
              "         [112, 117, 142],\n",
              "         [112, 118, 139],\n",
              "         [112, 119, 138]],\n",
              "\n",
              "        [[236, 225, 227],\n",
              "         [235, 224, 226],\n",
              "         [232, 221, 223],\n",
              "         ...,\n",
              "         [112, 117, 142],\n",
              "         [112, 118, 140],\n",
              "         [112, 119, 139]],\n",
              "\n",
              "        [[236, 225, 227],\n",
              "         [235, 224, 226],\n",
              "         [232, 221, 223],\n",
              "         ...,\n",
              "         [112, 117, 142],\n",
              "         [112, 118, 140],\n",
              "         [112, 119, 139]]],\n",
              "\n",
              "\n",
              "       [[[  8,   4,   3],\n",
              "         [  8,   4,   3],\n",
              "         [  8,   4,   3],\n",
              "         ...,\n",
              "         [ 54,  31,  29],\n",
              "         [ 54,  31,  29],\n",
              "         [ 54,  31,  29]],\n",
              "\n",
              "        [[  8,   4,   3],\n",
              "         [  8,   4,   3],\n",
              "         [  8,   4,   3],\n",
              "         ...,\n",
              "         [ 54,  31,  29],\n",
              "         [ 54,  31,  29],\n",
              "         [ 54,  31,  29]],\n",
              "\n",
              "        [[  8,   4,   3],\n",
              "         [  8,   4,   3],\n",
              "         [  8,   4,   3],\n",
              "         ...,\n",
              "         [ 54,  31,  29],\n",
              "         [ 54,  31,  29],\n",
              "         [ 54,  31,  29]],\n",
              "\n",
              "        ...,\n",
              "\n",
              "        [[138, 152, 194],\n",
              "         [138, 152, 194],\n",
              "         [137, 151, 193],\n",
              "         ...,\n",
              "         [ 23,  18,  17],\n",
              "         [ 23,  18,  17],\n",
              "         [ 23,  18,  17]],\n",
              "\n",
              "        [[138, 152, 194],\n",
              "         [138, 152, 194],\n",
              "         [137, 151, 193],\n",
              "         ...,\n",
              "         [ 23,  18,  17],\n",
              "         [ 23,  18,  17],\n",
              "         [ 23,  18,  17]],\n",
              "\n",
              "        [[138, 152, 194],\n",
              "         [138, 152, 194],\n",
              "         [137, 151, 193],\n",
              "         ...,\n",
              "         [ 23,  18,  17],\n",
              "         [ 23,  18,  17],\n",
              "         [ 23,  18,  17]]],\n",
              "\n",
              "\n",
              "       ...,\n",
              "\n",
              "\n",
              "       [[[ 70,  79, 122],\n",
              "         [ 70,  79, 122],\n",
              "         [ 70,  79, 122],\n",
              "         ...,\n",
              "         [217, 220, 221],\n",
              "         [226, 227, 227],\n",
              "         [230, 230, 230]],\n",
              "\n",
              "        [[ 69,  78, 121],\n",
              "         [ 69,  78, 121],\n",
              "         [ 69,  78, 121],\n",
              "         ...,\n",
              "         [217, 220, 221],\n",
              "         [226, 227, 227],\n",
              "         [230, 230, 230]],\n",
              "\n",
              "        [[ 66,  75, 119],\n",
              "         [ 66,  75, 119],\n",
              "         [ 66,  76, 119],\n",
              "         ...,\n",
              "         [218, 220, 221],\n",
              "         [226, 227, 227],\n",
              "         [230, 230, 230]],\n",
              "\n",
              "        ...,\n",
              "\n",
              "        [[ 98,  98,  98],\n",
              "         [100, 100, 100],\n",
              "         [106, 106, 106],\n",
              "         ...,\n",
              "         [163, 157, 159],\n",
              "         [163, 157, 159],\n",
              "         [163, 157, 159]],\n",
              "\n",
              "        [[ 98,  98,  98],\n",
              "         [100, 100, 100],\n",
              "         [106, 106, 106],\n",
              "         ...,\n",
              "         [164, 158, 160],\n",
              "         [164, 158, 160],\n",
              "         [164, 158, 160]],\n",
              "\n",
              "        [[ 98,  98,  98],\n",
              "         [100, 100, 100],\n",
              "         [106, 106, 106],\n",
              "         ...,\n",
              "         [164, 159, 160],\n",
              "         [164, 159, 160],\n",
              "         [164, 159, 160]]],\n",
              "\n",
              "\n",
              "       [[[232, 231, 241],\n",
              "         [231, 230, 240],\n",
              "         [230, 229, 239],\n",
              "         ...,\n",
              "         [238, 234, 246],\n",
              "         [238, 234, 246],\n",
              "         [238, 234, 246]],\n",
              "\n",
              "        [[232, 231, 241],\n",
              "         [231, 231, 240],\n",
              "         [231, 229, 239],\n",
              "         ...,\n",
              "         [238, 234, 246],\n",
              "         [238, 234, 246],\n",
              "         [238, 234, 246]],\n",
              "\n",
              "        [[232, 231, 241],\n",
              "         [231, 230, 240],\n",
              "         [230, 229, 239],\n",
              "         ...,\n",
              "         [238, 234, 246],\n",
              "         [238, 234, 246],\n",
              "         [238, 234, 246]],\n",
              "\n",
              "        ...,\n",
              "\n",
              "        [[117, 135, 230],\n",
              "         [117, 135, 230],\n",
              "         [117, 135, 230],\n",
              "         ...,\n",
              "         [137, 173, 233],\n",
              "         [136, 172, 231],\n",
              "         [136, 172, 230]],\n",
              "\n",
              "        [[117, 135, 230],\n",
              "         [117, 135, 230],\n",
              "         [117, 135, 230],\n",
              "         ...,\n",
              "         [139, 175, 234],\n",
              "         [139, 174, 233],\n",
              "         [139, 173, 232]],\n",
              "\n",
              "        [[117, 135, 230],\n",
              "         [117, 135, 230],\n",
              "         [117, 135, 230],\n",
              "         ...,\n",
              "         [140, 175, 235],\n",
              "         [140, 174, 234],\n",
              "         [140, 174, 233]]],\n",
              "\n",
              "\n",
              "       [[[203, 197, 152],\n",
              "         [203, 197, 151],\n",
              "         [203, 197, 150],\n",
              "         ...,\n",
              "         [200, 202, 142],\n",
              "         [200, 202, 142],\n",
              "         [200, 202, 142]],\n",
              "\n",
              "        [[203, 197, 152],\n",
              "         [203, 197, 151],\n",
              "         [203, 197, 151],\n",
              "         ...,\n",
              "         [200, 202, 142],\n",
              "         [200, 202, 142],\n",
              "         [200, 202, 142]],\n",
              "\n",
              "        [[203, 197, 152],\n",
              "         [203, 197, 152],\n",
              "         [203, 197, 150],\n",
              "         ...,\n",
              "         [200, 202, 142],\n",
              "         [200, 202, 142],\n",
              "         [200, 202, 142]],\n",
              "\n",
              "        ...,\n",
              "\n",
              "        [[201, 199, 145],\n",
              "         [201, 199, 145],\n",
              "         [202, 200, 146],\n",
              "         ...,\n",
              "         [201, 198, 146],\n",
              "         [201, 198, 146],\n",
              "         [201, 198, 146]],\n",
              "\n",
              "        [[201, 199, 145],\n",
              "         [201, 199, 145],\n",
              "         [202, 200, 146],\n",
              "         ...,\n",
              "         [201, 198, 147],\n",
              "         [201, 198, 147],\n",
              "         [201, 198, 147]],\n",
              "\n",
              "        [[201, 199, 145],\n",
              "         [201, 199, 145],\n",
              "         [202, 200, 146],\n",
              "         ...,\n",
              "         [202, 199, 148],\n",
              "         [202, 199, 148],\n",
              "         [202, 199, 148]]]], dtype=uint8)"
            ]
          },
          "metadata": {},
          "execution_count": 4
        }
      ]
    },
    {
      "cell_type": "code",
      "source": [
        "shape = images_array[0].shape\n",
        "shape"
      ],
      "metadata": {
        "colab": {
          "base_uri": "https://localhost:8080/"
        },
        "id": "yPKaxQ4_65VN",
        "outputId": "c03e287d-c0df-45a9-e2dd-927d2e820812"
      },
      "execution_count": 5,
      "outputs": [
        {
          "output_type": "execute_result",
          "data": {
            "text/plain": [
              "(480, 360, 3)"
            ]
          },
          "metadata": {},
          "execution_count": 5
        }
      ]
    },
    {
      "cell_type": "code",
      "source": [
        "images_array[0]"
      ],
      "metadata": {
        "colab": {
          "base_uri": "https://localhost:8080/"
        },
        "id": "q6KOs_RG7SrR",
        "outputId": "7a07d681-dfd9-46af-a954-45a660cbf425"
      },
      "execution_count": 6,
      "outputs": [
        {
          "output_type": "execute_result",
          "data": {
            "text/plain": [
              "array([[[ 23,  36,  38],\n",
              "        [ 23,  36,  38],\n",
              "        [ 23,  36,  38],\n",
              "        ...,\n",
              "        [ 16,  24,  24],\n",
              "        [ 16,  24,  24],\n",
              "        [ 16,  24,  24]],\n",
              "\n",
              "       [[ 23,  36,  38],\n",
              "        [ 23,  36,  38],\n",
              "        [ 23,  36,  38],\n",
              "        ...,\n",
              "        [ 16,  24,  24],\n",
              "        [ 16,  24,  24],\n",
              "        [ 16,  24,  24]],\n",
              "\n",
              "       [[ 23,  36,  38],\n",
              "        [ 23,  36,  38],\n",
              "        [ 23,  36,  38],\n",
              "        ...,\n",
              "        [ 16,  24,  24],\n",
              "        [ 16,  24,  24],\n",
              "        [ 16,  24,  24]],\n",
              "\n",
              "       ...,\n",
              "\n",
              "       [[ 24,  41,  69],\n",
              "        [ 24,  42,  70],\n",
              "        [ 25,  44,  71],\n",
              "        ...,\n",
              "        [101, 110, 130],\n",
              "        [101, 110, 130],\n",
              "        [101, 110, 130]],\n",
              "\n",
              "       [[ 29,  47,  75],\n",
              "        [ 29,  48,  76],\n",
              "        [ 30,  50,  77],\n",
              "        ...,\n",
              "        [101, 110, 130],\n",
              "        [101, 110, 130],\n",
              "        [101, 110, 130]],\n",
              "\n",
              "       [[ 31,  49,  78],\n",
              "        [ 31,  50,  78],\n",
              "        [ 32,  52,  80],\n",
              "        ...,\n",
              "        [101, 110, 130],\n",
              "        [101, 110, 130],\n",
              "        [101, 110, 130]]], dtype=uint8)"
            ]
          },
          "metadata": {},
          "execution_count": 6
        }
      ]
    },
    {
      "cell_type": "markdown",
      "source": [
        "We can see that the images are stored pixel by pixel as a two - dimensional array, with each element being an array with three parameters. These three parameters are the Pixel's RGB (i.e. Red, Green and Blue) values.\n",
        "\n",
        "There aren't any values that are missing.\n",
        "\n",
        "All of the pixel specifics in the image dataset are utilized as characteristics in the construction of our machine learning model.\n",
        "\n",
        "Intended column: Our model will generate new facial images based on the images we feed it. We as well train a discriminator to determine if an image is genuine or synthetic.\n",
        "\n",
        "Actions to be Implemented in the project:\n",
        "\n",
        "1. The dataset will be loaded into numpy arrays.\n",
        "2. We will pre - process the images in order to fit their pixel density.\n",
        "3. We'll build a GAN model and train it on the images we provide it..\n",
        "4. We will build a discriminator to determine if an image is genuine or synthetic.\n",
        "5. Hyper - parameters optimizations will be carried out.\n",
        "6. By using generator, we would therefore generate new images.\n",
        "7. We then display the synthetically generated images through a User Interface."
      ],
      "metadata": {
        "id": "6rVsdrtbQsnd"
      }
    },
    {
      "cell_type": "code",
      "source": [
        "def build_discriminator(img_shape):\n",
        "  model = Sequential([                                                      \n",
        "  Conv2D(32, kernel_size=5, strides=2, input_shape=img_shape, padding=\"same\"),                          \n",
        "  LeakyReLU(alpha=0.2),                           \n",
        "  Dropout(0.25),\n",
        "  Conv2D(64, kernel_size=5, strides=2, padding=\"same\"),                          \n",
        "  BatchNormalization(momentum=0.8),                           \n",
        "  LeakyReLU(alpha=0.2),                           \n",
        "  Dropout(0.25),\n",
        "  Conv2D(128, kernel_size=5, strides=2, padding=\"same\"),                         \n",
        "  BatchNormalization(momentum=0.8),                           \n",
        "  LeakyReLU(alpha=0.2),                           \n",
        "  Dropout(0.25),\n",
        "  Flatten(),                            \n",
        "  Dense(1),                           \n",
        "  Activation(\"sigmoid\")\n",
        "  ])\n",
        "                                                    \n",
        "  model.summary()                           \n",
        "  img = Input(shape=img_shape)                           \n",
        "  d_pred = model(img)                           \n",
        "  return Model(inputs=img, outputs=d_pred)"
      ],
      "metadata": {
        "id": "XYUXCv7XyO2c"
      },
      "execution_count": 7,
      "outputs": []
    },
    {
      "cell_type": "code",
      "source": [
        "def build_generator(z_dimension, channels):                           \n",
        "  model = Sequential([\n",
        "  Dense(2 * 120 * 90, input_dim=z_dimension),                           \n",
        "  LeakyReLU(alpha=0.2),                            \n",
        "  Reshape((120, 90, 2)),\n",
        "  UpSampling2D(),                          \n",
        "  Conv2D(128, kernel_size=5, padding=\"same\"),                           \n",
        "  BatchNormalization(momentum=0.8),                           \n",
        "  LeakyReLU(alpha=0.2),\n",
        "  UpSampling2D(),                           \n",
        "  Conv2D(64, kernel_size=5, padding=\"same\"),                           \n",
        "  BatchNormalization(momentum=0.8),                           \n",
        "  LeakyReLU(alpha=0.2),\n",
        "  Conv2D(channels, kernel_size=5, padding=\"same\"),                           \n",
        "  Activation(\"tanh\"),\n",
        "  ])\n",
        "  model.summary()                           \n",
        "  noise = Input(shape=(z_dimension,))                           \n",
        "  img = model(noise)                           \n",
        "  return Model(inputs=noise, outputs=img)"
      ],
      "metadata": {
        "id": "FoIb-ha85BwU"
      },
      "execution_count": 8,
      "outputs": []
    },
    {
      "cell_type": "code",
      "source": [
        "#load real pictures:                       \n",
        "x_train = images_array                                       \n",
        "# model parameters                       \n",
        "img_rows = shape[0]                       \n",
        "img_cols = shape[1]                       \n",
        "channels = 3                       \n",
        "img_shape = (img_rows, img_cols, channels)                       \n",
        "z_dimension = 32                       \n",
        "optimizer = Adam(0.0005, 0.5)"
      ],
      "metadata": {
        "id": "-4IlLFit7oBy"
      },
      "execution_count": 9,
      "outputs": []
    },
    {
      "cell_type": "code",
      "source": [
        "discriminator = build_discriminator(img_shape)                       \n",
        "discriminator.compile(loss='binary_crossentropy',                                             \n",
        "                      optimizer=optimizer, metrics=['accuracy'])                                               \n",
        "generator = build_generator(z_dimension,channels)                                               \n",
        "z = Input(shape=(z_dimension,))                       \n",
        "img = generator(z)                       \n",
        "discriminator.trainable = False                       \n",
        "d_pred = discriminator(img)                       \n",
        "combined = Model(z, d_pred)                       \n",
        "combined.compile(loss='binary_crossentropy',optimizer=optimizer,                                        \n",
        "                 metrics=['accuracy'])"
      ],
      "metadata": {
        "colab": {
          "base_uri": "https://localhost:8080/"
        },
        "id": "Le-OOCUx8pxX",
        "outputId": "aa10299d-98b8-49b2-98dd-24ab9b37b305"
      },
      "execution_count": 10,
      "outputs": [
        {
          "output_type": "stream",
          "name": "stdout",
          "text": [
            "Model: \"sequential\"\n",
            "_________________________________________________________________\n",
            " Layer (type)                Output Shape              Param #   \n",
            "=================================================================\n",
            " conv2d (Conv2D)             (None, 240, 180, 32)      2432      \n",
            "                                                                 \n",
            " leaky_re_lu (LeakyReLU)     (None, 240, 180, 32)      0         \n",
            "                                                                 \n",
            " dropout (Dropout)           (None, 240, 180, 32)      0         \n",
            "                                                                 \n",
            " conv2d_1 (Conv2D)           (None, 120, 90, 64)       51264     \n",
            "                                                                 \n",
            " batch_normalization (BatchN  (None, 120, 90, 64)      256       \n",
            " ormalization)                                                   \n",
            "                                                                 \n",
            " leaky_re_lu_1 (LeakyReLU)   (None, 120, 90, 64)       0         \n",
            "                                                                 \n",
            " dropout_1 (Dropout)         (None, 120, 90, 64)       0         \n",
            "                                                                 \n",
            " conv2d_2 (Conv2D)           (None, 60, 45, 128)       204928    \n",
            "                                                                 \n",
            " batch_normalization_1 (Batc  (None, 60, 45, 128)      512       \n",
            " hNormalization)                                                 \n",
            "                                                                 \n",
            " leaky_re_lu_2 (LeakyReLU)   (None, 60, 45, 128)       0         \n",
            "                                                                 \n",
            " dropout_2 (Dropout)         (None, 60, 45, 128)       0         \n",
            "                                                                 \n",
            " flatten (Flatten)           (None, 345600)            0         \n",
            "                                                                 \n",
            " dense (Dense)               (None, 1)                 345601    \n",
            "                                                                 \n",
            " activation (Activation)     (None, 1)                 0         \n",
            "                                                                 \n",
            "=================================================================\n",
            "Total params: 604,993\n",
            "Trainable params: 604,609\n",
            "Non-trainable params: 384\n",
            "_________________________________________________________________\n",
            "Model: \"sequential_1\"\n",
            "_________________________________________________________________\n",
            " Layer (type)                Output Shape              Param #   \n",
            "=================================================================\n",
            " dense_1 (Dense)             (None, 21600)             712800    \n",
            "                                                                 \n",
            " leaky_re_lu_3 (LeakyReLU)   (None, 21600)             0         \n",
            "                                                                 \n",
            " reshape (Reshape)           (None, 120, 90, 2)        0         \n",
            "                                                                 \n",
            " up_sampling2d (UpSampling2D  (None, 240, 180, 2)      0         \n",
            " )                                                               \n",
            "                                                                 \n",
            " conv2d_3 (Conv2D)           (None, 240, 180, 128)     6528      \n",
            "                                                                 \n",
            " batch_normalization_2 (Batc  (None, 240, 180, 128)    512       \n",
            " hNormalization)                                                 \n",
            "                                                                 \n",
            " leaky_re_lu_4 (LeakyReLU)   (None, 240, 180, 128)     0         \n",
            "                                                                 \n",
            " up_sampling2d_1 (UpSampling  (None, 480, 360, 128)    0         \n",
            " 2D)                                                             \n",
            "                                                                 \n",
            " conv2d_4 (Conv2D)           (None, 480, 360, 64)      204864    \n",
            "                                                                 \n",
            " batch_normalization_3 (Batc  (None, 480, 360, 64)     256       \n",
            " hNormalization)                                                 \n",
            "                                                                 \n",
            " leaky_re_lu_5 (LeakyReLU)   (None, 480, 360, 64)      0         \n",
            "                                                                 \n",
            " conv2d_5 (Conv2D)           (None, 480, 360, 3)       4803      \n",
            "                                                                 \n",
            " activation_1 (Activation)   (None, 480, 360, 3)       0         \n",
            "                                                                 \n",
            "=================================================================\n",
            "Total params: 929,763\n",
            "Trainable params: 929,379\n",
            "Non-trainable params: 384\n",
            "_________________________________________________________________\n"
          ]
        }
      ]
    },
    {
      "cell_type": "code",
      "source": [
        "max_epochs = 30000\n",
        "batch = 64\n",
        "\n",
        "real_imgs = np.ones((batch, 1))\n",
        "fake_imgs = np.zeros((batch, 1))\n",
        "\n",
        "for epoch in range(max_epochs):\n",
        "    index = np.random.randint(0, x_train.shape[0], batch)\n",
        "    images = x_train[index]\n",
        "    sample_noise = np.random.normal(0, 1, (batch, z_dimension))\n",
        "    gen_images = generator.predict(sample_noise)\n",
        "\n",
        "    fake_imgs_discriminator_loss = discriminator.train_on_batch(gen_images, fake_imgs)\n",
        "    real_imgs_discriminator_loss = discriminator.train_on_batch(images, real_imgs)\n",
        "    \n",
        "    total_discriminator_loss = np.add(real_imgs_discriminator_loss, fake_imgs_discriminator_loss)/2\n",
        "    sample_noise = np.random.normal(0, 1, (batch, z_dimension))\n",
        "    g_loss = combined.train_on_batch(sample_noise, real_imgs)\n",
        "    \n",
        "generator.save(\"generator.h5\" )"
      ],
      "metadata": {
        "colab": {
          "base_uri": "https://localhost:8080/"
        },
        "id": "MO7ZBeD09JwS",
        "outputId": "cf3ea0d3-8fbd-4fd3-82ee-d178fc12f1e7"
      },
      "execution_count": null,
      "outputs": [
        {
          "output_type": "stream",
          "name": "stdout",
          "text": [
            "2/2 [==============================] - 103s 51s/step\n"
          ]
        }
      ]
    }
  ]
}