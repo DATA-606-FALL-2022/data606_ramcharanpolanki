{
  "nbformat": 4,
  "nbformat_minor": 0,
  "metadata": {
    "colab": {
      "provenance": []
    },
    "kernelspec": {
      "name": "python3",
      "display_name": "Python 3"
    },
    "language_info": {
      "name": "python"
    }
  },
  "cells": [
    {
      "cell_type": "markdown",
      "source": [
        "Importing Libraries:"
      ],
      "metadata": {
        "id": "teeWNrMIpEdH"
      }
    },
    {
      "cell_type": "code",
      "execution_count": 7,
      "metadata": {
        "id": "w2HROShEYIM-"
      },
      "outputs": [],
      "source": [
        "import cv2\n",
        "import os\n",
        "import numpy as np"
      ]
    },
    {
      "cell_type": "markdown",
      "source": [
        "Loading the Images into the Notebook:"
      ],
      "metadata": {
        "id": "JWYX0Q-dpLuy"
      }
    },
    {
      "cell_type": "code",
      "source": [
        "#Reading all the images into a numpy array\n",
        "images = []\n",
        "for file in os.listdir():\n",
        "  if file.endswith('.jpg'):\n",
        "    #if the file is an image\n",
        "    image_values = cv2.imread(file)\n",
        "\n",
        "    #resize the image into 360 x 480 pixels\n",
        "    image_values = cv2.resize(image_values,(360,480))\n",
        "\n",
        "    images.append(image_values)\n",
        "\n",
        "#storing everything in a numpy array\n",
        "images_array = np.array(images)"
      ],
      "metadata": {
        "id": "aLJ5tbPqYKuD"
      },
      "execution_count": 8,
      "outputs": []
    },
    {
      "cell_type": "markdown",
      "source": [
        "Knowing the number of Images we are working on:"
      ],
      "metadata": {
        "id": "0QKnVvjupS80"
      }
    },
    {
      "cell_type": "code",
      "source": [
        "number_of_observations = len(images_array)\n",
        "number_of_observations"
      ],
      "metadata": {
        "colab": {
          "base_uri": "https://localhost:8080/"
        },
        "id": "smVNN1ndYMp5",
        "outputId": "ea418f5d-71b5-44be-e0a7-4d0d76f7b025"
      },
      "execution_count": 9,
      "outputs": [
        {
          "output_type": "execute_result",
          "data": {
            "text/plain": [
              "31"
            ]
          },
          "metadata": {},
          "execution_count": 9
        }
      ]
    },
    {
      "cell_type": "markdown",
      "source": [
        "We don't have any columns because we're operating on an image dataset.\n",
        "\n",
        "Analyzing image storage in Python variables."
      ],
      "metadata": {
        "id": "1TAu7O3foxfn"
      }
    },
    {
      "cell_type": "code",
      "source": [
        "images_array"
      ],
      "metadata": {
        "colab": {
          "base_uri": "https://localhost:8080/"
        },
        "id": "S2lcxfsuYM17",
        "outputId": "8f195ab9-800e-4132-df1a-8ca2c26ca411"
      },
      "execution_count": 10,
      "outputs": [
        {
          "output_type": "execute_result",
          "data": {
            "text/plain": [
              "array([[[[  0,   0,   0],\n",
              "         [  0,   0,   0],\n",
              "         [  1,   1,   1],\n",
              "         ...,\n",
              "         [  2,   2,   2],\n",
              "         [  2,   2,   2],\n",
              "         [  2,   2,   2]],\n",
              "\n",
              "        [[  0,   0,   0],\n",
              "         [  0,   0,   0],\n",
              "         [  1,   1,   1],\n",
              "         ...,\n",
              "         [  2,   2,   2],\n",
              "         [  2,   2,   2],\n",
              "         [  2,   2,   2]],\n",
              "\n",
              "        [[  0,   0,   0],\n",
              "         [  0,   0,   0],\n",
              "         [  1,   1,   1],\n",
              "         ...,\n",
              "         [  2,   2,   2],\n",
              "         [  2,   2,   2],\n",
              "         [  2,   2,   2]],\n",
              "\n",
              "        ...,\n",
              "\n",
              "        [[  4,   4,   4],\n",
              "         [  4,   4,   4],\n",
              "         [  4,   4,   4],\n",
              "         ...,\n",
              "         [173, 144, 139],\n",
              "         [170, 141, 137],\n",
              "         [169, 139, 136]],\n",
              "\n",
              "        [[  4,   4,   4],\n",
              "         [  4,   4,   4],\n",
              "         [  4,   4,   4],\n",
              "         ...,\n",
              "         [173, 143, 139],\n",
              "         [171, 141, 137],\n",
              "         [170, 139, 136]],\n",
              "\n",
              "        [[  4,   4,   4],\n",
              "         [  4,   4,   4],\n",
              "         [  4,   4,   4],\n",
              "         ...,\n",
              "         [174, 143, 139],\n",
              "         [171, 140, 137],\n",
              "         [170, 139, 136]]],\n",
              "\n",
              "\n",
              "       [[[  3,  67, 209],\n",
              "         [  2,  66, 208],\n",
              "         [  1,  63, 205],\n",
              "         ...,\n",
              "         [ 18,  53, 202],\n",
              "         [ 15,  54, 203],\n",
              "         [ 14,  54, 203]],\n",
              "\n",
              "        [[  4,  67, 210],\n",
              "         [  4,  66, 209],\n",
              "         [  3,  64, 207],\n",
              "         ...,\n",
              "         [ 18,  53, 202],\n",
              "         [ 15,  54, 203],\n",
              "         [ 14,  54, 203]],\n",
              "\n",
              "        [[  9,  67, 214],\n",
              "         [  8,  66, 214],\n",
              "         [  8,  65, 212],\n",
              "         ...,\n",
              "         [ 18,  53, 202],\n",
              "         [ 15,  54, 203],\n",
              "         [ 14,  54, 203]],\n",
              "\n",
              "        ...,\n",
              "\n",
              "        [[ 32,  37,  38],\n",
              "         [ 32,  37,  38],\n",
              "         [ 33,  39,  39],\n",
              "         ...,\n",
              "         [211, 201, 191],\n",
              "         [211, 201, 191],\n",
              "         [211, 201, 191]],\n",
              "\n",
              "        [[ 33,  37,  38],\n",
              "         [ 33,  37,  38],\n",
              "         [ 34,  39,  39],\n",
              "         ...,\n",
              "         [211, 201, 191],\n",
              "         [211, 201, 191],\n",
              "         [211, 201, 191]],\n",
              "\n",
              "        [[ 33,  37,  38],\n",
              "         [ 33,  37,  38],\n",
              "         [ 34,  38,  39],\n",
              "         ...,\n",
              "         [211, 201, 191],\n",
              "         [211, 201, 191],\n",
              "         [211, 201, 191]]],\n",
              "\n",
              "\n",
              "       [[[244, 227, 231],\n",
              "         [244, 227, 231],\n",
              "         [244, 227, 231],\n",
              "         ...,\n",
              "         [245, 226, 235],\n",
              "         [245, 226, 235],\n",
              "         [245, 226, 235]],\n",
              "\n",
              "        [[244, 227, 231],\n",
              "         [244, 227, 231],\n",
              "         [244, 227, 231],\n",
              "         ...,\n",
              "         [245, 226, 235],\n",
              "         [245, 226, 235],\n",
              "         [245, 226, 235]],\n",
              "\n",
              "        [[244, 227, 231],\n",
              "         [244, 227, 231],\n",
              "         [244, 227, 231],\n",
              "         ...,\n",
              "         [245, 226, 235],\n",
              "         [245, 226, 235],\n",
              "         [245, 226, 235]],\n",
              "\n",
              "        ...,\n",
              "\n",
              "        [[ 74,  36,  52],\n",
              "         [ 73,  36,  53],\n",
              "         [ 72,  35,  54],\n",
              "         ...,\n",
              "         [143, 132, 147],\n",
              "         [159, 149, 162],\n",
              "         [167, 157, 170]],\n",
              "\n",
              "        [[ 75,  37,  53],\n",
              "         [ 74,  36,  53],\n",
              "         [ 73,  36,  53],\n",
              "         ...,\n",
              "         [143, 132, 147],\n",
              "         [159, 149, 162],\n",
              "         [167, 157, 170]],\n",
              "\n",
              "        [[ 76,  37,  53],\n",
              "         [ 75,  37,  53],\n",
              "         [ 73,  36,  53],\n",
              "         ...,\n",
              "         [142, 132, 147],\n",
              "         [159, 149, 162],\n",
              "         [167, 157, 170]]],\n",
              "\n",
              "\n",
              "       ...,\n",
              "\n",
              "\n",
              "       [[[108, 156, 228],\n",
              "         [108, 157, 229],\n",
              "         [109, 158, 230],\n",
              "         ...,\n",
              "         [ 54,  70,  77],\n",
              "         [ 54,  70,  77],\n",
              "         [ 54,  70,  77]],\n",
              "\n",
              "        [[108, 156, 228],\n",
              "         [108, 157, 229],\n",
              "         [109, 158, 230],\n",
              "         ...,\n",
              "         [ 54,  70,  77],\n",
              "         [ 54,  70,  77],\n",
              "         [ 54,  70,  77]],\n",
              "\n",
              "        [[108, 156, 228],\n",
              "         [108, 157, 229],\n",
              "         [109, 158, 230],\n",
              "         ...,\n",
              "         [ 54,  70,  77],\n",
              "         [ 54,  70,  77],\n",
              "         [ 54,  70,  77]],\n",
              "\n",
              "        ...,\n",
              "\n",
              "        [[ 54,  93, 162],\n",
              "         [ 54,  93, 162],\n",
              "         [ 55,  94, 163],\n",
              "         ...,\n",
              "         [ 19,  29,  32],\n",
              "         [ 18,  30,  32],\n",
              "         [ 18,  30,  32]],\n",
              "\n",
              "        [[ 54,  93, 162],\n",
              "         [ 54,  93, 162],\n",
              "         [ 55,  94, 163],\n",
              "         ...,\n",
              "         [ 19,  29,  32],\n",
              "         [ 18,  30,  32],\n",
              "         [ 18,  30,  32]],\n",
              "\n",
              "        [[ 54,  93, 162],\n",
              "         [ 54,  93, 162],\n",
              "         [ 55,  94, 163],\n",
              "         ...,\n",
              "         [ 19,  29,  32],\n",
              "         [ 18,  30,  32],\n",
              "         [ 18,  30,  32]]],\n",
              "\n",
              "\n",
              "       [[[171, 179, 178],\n",
              "         [171, 179, 178],\n",
              "         [171, 179, 178],\n",
              "         ...,\n",
              "         [164, 176, 176],\n",
              "         [164, 176, 176],\n",
              "         [164, 176, 176]],\n",
              "\n",
              "        [[171, 179, 178],\n",
              "         [171, 179, 178],\n",
              "         [171, 179, 178],\n",
              "         ...,\n",
              "         [164, 176, 176],\n",
              "         [164, 176, 176],\n",
              "         [164, 176, 176]],\n",
              "\n",
              "        [[171, 179, 178],\n",
              "         [171, 179, 178],\n",
              "         [171, 179, 178],\n",
              "         ...,\n",
              "         [164, 176, 176],\n",
              "         [164, 176, 176],\n",
              "         [164, 176, 176]],\n",
              "\n",
              "        ...,\n",
              "\n",
              "        [[ 61, 127, 145],\n",
              "         [ 57, 124, 141],\n",
              "         [ 51, 117, 135],\n",
              "         ...,\n",
              "         [  0,   2,   2],\n",
              "         [  0,   2,   2],\n",
              "         [  0,   2,   2]],\n",
              "\n",
              "        [[ 62, 128, 146],\n",
              "         [ 58, 124, 142],\n",
              "         [ 52, 118, 136],\n",
              "         ...,\n",
              "         [  0,   2,   2],\n",
              "         [  0,   2,   2],\n",
              "         [  0,   2,   2]],\n",
              "\n",
              "        [[ 62, 128, 146],\n",
              "         [ 59, 125, 143],\n",
              "         [ 52, 118, 136],\n",
              "         ...,\n",
              "         [  0,   2,   2],\n",
              "         [  0,   2,   2],\n",
              "         [  0,   2,   2]]],\n",
              "\n",
              "\n",
              "       [[[194, 231, 253],\n",
              "         [194, 231, 253],\n",
              "         [194, 231, 253],\n",
              "         ...,\n",
              "         [223, 237, 255],\n",
              "         [222, 238, 254],\n",
              "         [222, 238, 254]],\n",
              "\n",
              "        [[194, 231, 253],\n",
              "         [194, 231, 253],\n",
              "         [194, 231, 253],\n",
              "         ...,\n",
              "         [223, 237, 255],\n",
              "         [222, 238, 254],\n",
              "         [222, 238, 254]],\n",
              "\n",
              "        [[194, 231, 253],\n",
              "         [194, 231, 253],\n",
              "         [194, 231, 253],\n",
              "         ...,\n",
              "         [222, 237, 255],\n",
              "         [222, 238, 254],\n",
              "         [222, 238, 254]],\n",
              "\n",
              "        ...,\n",
              "\n",
              "        [[ 29,  76, 144],\n",
              "         [ 33,  80, 148],\n",
              "         [ 42,  89, 157],\n",
              "         ...,\n",
              "         [ 24,  50, 120],\n",
              "         [ 24,  50, 119],\n",
              "         [ 24,  50, 119]],\n",
              "\n",
              "        [[ 46,  93, 161],\n",
              "         [ 54, 101, 168],\n",
              "         [ 69, 116, 184],\n",
              "         ...,\n",
              "         [ 24,  50, 120],\n",
              "         [ 24,  50, 120],\n",
              "         [ 24,  50, 120]],\n",
              "\n",
              "        [[ 53, 100, 168],\n",
              "         [ 62, 109, 176],\n",
              "         [ 79, 126, 194],\n",
              "         ...,\n",
              "         [ 24,  50, 120],\n",
              "         [ 24,  50, 120],\n",
              "         [ 24,  50, 120]]]], dtype=uint8)"
            ]
          },
          "metadata": {},
          "execution_count": 10
        }
      ]
    },
    {
      "cell_type": "code",
      "source": [
        "images_array[0].shape"
      ],
      "metadata": {
        "colab": {
          "base_uri": "https://localhost:8080/"
        },
        "id": "uuq7wjUWYQtA",
        "outputId": "6e1029f6-e538-4de1-ae4d-1730ddeb043e"
      },
      "execution_count": 11,
      "outputs": [
        {
          "output_type": "execute_result",
          "data": {
            "text/plain": [
              "(480, 360, 3)"
            ]
          },
          "metadata": {},
          "execution_count": 11
        }
      ]
    },
    {
      "cell_type": "code",
      "source": [
        "images_array[0]"
      ],
      "metadata": {
        "colab": {
          "base_uri": "https://localhost:8080/"
        },
        "id": "KBrw7X84YSol",
        "outputId": "e2be1771-efb1-4e29-882a-d7e41b48250a"
      },
      "execution_count": 12,
      "outputs": [
        {
          "output_type": "execute_result",
          "data": {
            "text/plain": [
              "array([[[  0,   0,   0],\n",
              "        [  0,   0,   0],\n",
              "        [  1,   1,   1],\n",
              "        ...,\n",
              "        [  2,   2,   2],\n",
              "        [  2,   2,   2],\n",
              "        [  2,   2,   2]],\n",
              "\n",
              "       [[  0,   0,   0],\n",
              "        [  0,   0,   0],\n",
              "        [  1,   1,   1],\n",
              "        ...,\n",
              "        [  2,   2,   2],\n",
              "        [  2,   2,   2],\n",
              "        [  2,   2,   2]],\n",
              "\n",
              "       [[  0,   0,   0],\n",
              "        [  0,   0,   0],\n",
              "        [  1,   1,   1],\n",
              "        ...,\n",
              "        [  2,   2,   2],\n",
              "        [  2,   2,   2],\n",
              "        [  2,   2,   2]],\n",
              "\n",
              "       ...,\n",
              "\n",
              "       [[  4,   4,   4],\n",
              "        [  4,   4,   4],\n",
              "        [  4,   4,   4],\n",
              "        ...,\n",
              "        [173, 144, 139],\n",
              "        [170, 141, 137],\n",
              "        [169, 139, 136]],\n",
              "\n",
              "       [[  4,   4,   4],\n",
              "        [  4,   4,   4],\n",
              "        [  4,   4,   4],\n",
              "        ...,\n",
              "        [173, 143, 139],\n",
              "        [171, 141, 137],\n",
              "        [170, 139, 136]],\n",
              "\n",
              "       [[  4,   4,   4],\n",
              "        [  4,   4,   4],\n",
              "        [  4,   4,   4],\n",
              "        ...,\n",
              "        [174, 143, 139],\n",
              "        [171, 140, 137],\n",
              "        [170, 139, 136]]], dtype=uint8)"
            ]
          },
          "metadata": {},
          "execution_count": 12
        }
      ]
    },
    {
      "cell_type": "markdown",
      "source": [
        "We can see that the images are stored pixel by pixel as a two - dimensional array, with each element being an array with three parameters. These three parameters are the Pixel's RGB (i.e. Red, Green and Blue) values.\n",
        "\n",
        "There aren't any values that are missing.\n",
        "\n",
        "All of the pixel specifics in the image dataset are utilized as characteristics in the construction of our machine learning model.\n",
        "\n",
        "Intended column: Our model will generate new facial images based on the images we feed it. We as well train a discriminator to determine if an image is genuine or synthetic.\n",
        "\n",
        "\n",
        "Actions to be Implemented in the project:\n",
        "\n",
        "1. The dataset will be loaded into numpy arrays.\n",
        "2. We will pre - process the images in order to fit their pixel density.\n",
        "3. We'll build a GAN model and train it on the images we provide it..\n",
        "4. We will build a discriminator to determine if an image is genuine or synthetic.\n",
        "5. Hyper - parameters optimizations will be carried out.\n",
        "6. By using generator, we would therefore generate new images.\n",
        "7. We then display the synthetically generated images through a User Interface. "
      ],
      "metadata": {
        "id": "VopEnziRpup2"
      }
    }
  ]
}